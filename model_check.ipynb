{
 "cells": [
  {
   "cell_type": "code",
   "execution_count": 5,
   "metadata": {},
   "outputs": [
    {
     "name": "stdout",
     "output_type": "stream",
     "text": [
      "[[ 0.14407812  0.0500376   0.08961784 -0.06179884  0.0528465 ]\n",
      " [-0.05985213 -0.07301822 -0.2635567   0.13362764  0.13176589]\n",
      " [ 0.12214801  0.03756325 -0.06553881 -0.06963905 -0.06832203]\n",
      " [-0.00487475  0.22527556  0.0633746  -0.32199037  0.10652103]\n",
      " [ 0.19587426  0.11883654 -0.2801226  -0.09892868 -0.13672052]\n",
      " [-0.03663511  0.17184521  0.0555879   0.0423632  -0.02266259]\n",
      " [-0.0746548   0.03135461 -0.01216353 -0.17437991  0.04069547]\n",
      " [ 0.134538   -0.14594361 -0.18757589 -0.21654765  0.03577449]\n",
      " [-0.06318529  0.11427727  0.13370085  0.07990576 -0.07427066]\n",
      " [ 0.01233653 -0.04456625  0.04197911  0.03316524  0.03579945]]\n",
      "[[ 0.09769375 -0.01186548  0.0033195  -0.02564826 -0.01049338]\n",
      " [ 0.11653662  0.02318947  0.08592043  0.11370049 -0.01759648]\n",
      " [-0.09300634 -0.12630832 -0.10996639  0.00312427 -0.13661304]\n",
      " [ 0.10492289 -0.17034495 -0.12499949 -0.11208407 -0.0612913 ]\n",
      " [-0.17773096 -0.07733493  0.04897014  0.04825225 -0.15271345]\n",
      " [ 0.09327556  0.01915945  0.06744102  0.17260742 -0.12908189]\n",
      " [-0.12168542  0.03217422  0.0290304  -0.19924816 -0.00189871]\n",
      " [ 0.0263679  -0.01152956  0.1478554  -0.00034322 -0.05662324]\n",
      " [ 0.10709582  0.15477984  0.0096229  -0.21641926 -0.00660645]\n",
      " [ 0.04752233  0.1339952   0.1522729  -0.0940918  -0.08716783]]\n"
     ]
    }
   ],
   "source": [
    "import numpy as np\n",
    "W_hash_in = 0.1 * np.random.randn(10, 5).astype('f')\n",
    "print(W_hash_in)\n",
    "W_out = 0.1 * np.random.randn(10, 5).astype('f')\n",
    "print(W_out)"
   ]
  },
  {
   "cell_type": "code",
   "execution_count": 13,
   "metadata": {},
   "outputs": [
    {
     "name": "stdout",
     "output_type": "stream",
     "text": [
      "[ 0.08967417 -0.0509822  -0.07037853 -0.08434048  0.00108397]\n",
      "[[[ 0.11653662  0.10492289  0.10709582  0.09327556]\n",
      "  [ 0.02318947 -0.17034495  0.15477984  0.01915945]\n",
      "  [ 0.08592043 -0.12499949  0.0096229   0.06744102]\n",
      "  [ 0.11370049 -0.11208407 -0.21641926  0.17260742]\n",
      "  [-0.01759648 -0.0612913  -0.00660645 -0.12908189]]\n",
      "\n",
      " [[-0.17773096 -0.12168542  0.09769375  0.10492289]\n",
      "  [-0.07733493  0.03217422 -0.01186548 -0.17034495]\n",
      "  [ 0.04897014  0.0290304   0.0033195  -0.12499949]\n",
      "  [ 0.04825225 -0.19924816 -0.02564826 -0.11208407]\n",
      "  [-0.15271345 -0.00189871 -0.01049338 -0.0612913 ]]]\n"
     ]
    }
   ],
   "source": [
    "A = [7, 2, 9]\n",
    "B = [[1, 3, 8, 5], [4, 6, 0, 3]]\n",
    "h = np.sum(W_hash_in[np.array(A)], axis=0)/3\n",
    "w_out = W_out[np.array(B)]\n",
    "print(h)\n",
    "print(w_out.transpose(0, 2, 1))"
   ]
  },
  {
   "cell_type": "code",
   "execution_count": 15,
   "metadata": {},
   "outputs": [
    {
     "data": {
      "text/plain": [
       "array([[-0.00638751,  0.0362775 ,  0.01928121, -0.0120565 ],\n",
       "       [-0.01967677,  0.00220716,  0.01128372,  0.0362775 ]],\n",
       "      dtype=float32)"
      ]
     },
     "execution_count": 15,
     "metadata": {},
     "output_type": "execute_result"
    }
   ],
   "source": [
    "out = np.dot(h, w_out.transpose(0, 2, 1))\n",
    "out"
   ]
  },
  {
   "cell_type": "code",
   "execution_count": 3,
   "metadata": {},
   "outputs": [],
   "source": [
    "def sigmoid(x):\n",
    "    out = 1 / (1 + np.exp(-x))\n",
    "    return out"
   ]
  },
  {
   "cell_type": "code",
   "execution_count": 19,
   "metadata": {},
   "outputs": [
    {
     "name": "stdout",
     "output_type": "stream",
     "text": [
      "[[0.62208396 0.6245881  0.6235914  0.6217508 ]\n",
      " [0.6213026  0.62258893 0.623122   0.6245881 ]]\n"
     ]
    }
   ],
   "source": [
    "out = sigmoid(out)\n",
    "print(out)"
   ]
  },
  {
   "cell_type": "code",
   "execution_count": 29,
   "metadata": {},
   "outputs": [
    {
     "name": "stdout",
     "output_type": "stream",
     "text": [
      "0.95061684\n",
      "5.8589973\n",
      "6.809614\n"
     ]
    }
   ],
   "source": [
    "p_loss = -np.sum(np.log(out[:, :1] + 1e-07))\n",
    "print(p_loss)\n",
    "n_loss = -np.sum(np.log(1 - out[:, 1:] + 1e-07))\n",
    "print(n_loss)\n",
    "loss = p_loss + n_loss\n",
    "print(loss)"
   ]
  },
  {
   "cell_type": "code",
   "execution_count": 32,
   "metadata": {},
   "outputs": [
    {
     "name": "stdout",
     "output_type": "stream",
     "text": [
      "[[0.62208396 0.6245881  0.6235914  0.6217508 ]\n",
      " [0.6213026  0.62258893 0.623122   0.6245881 ]]\n",
      "[[-0.37791604  0.6245881   0.6235914   0.6217508 ]\n",
      " [-0.3786974   0.62258893  0.623122    0.6245881 ]]\n"
     ]
    }
   ],
   "source": [
    "dout = out.copy()\n",
    "print(dout)\n",
    "dout[:,:1] -= 1\n",
    "print(dout)"
   ]
  },
  {
   "cell_type": "code",
   "execution_count": 42,
   "metadata": {},
   "outputs": [],
   "source": [
    "import pickle\n",
    "\n",
    "dictionary_pkl = 'data/vocab.pkl'\n",
    "with open(dictionary_pkl, 'rb') as fr:\n",
    "    vocab, word_to_id, id_to_word = pickle.load(fr)\n",
    "    fr.close()\n",
    "\n",
    "word_p = np.array(list(vocab.values()))"
   ]
  },
  {
   "cell_type": "code",
   "execution_count": 43,
   "metadata": {},
   "outputs": [
    {
     "data": {
      "text/plain": [
       "array([7446708, 4453926, 3776770, ...,       5,       5,       5])"
      ]
     },
     "execution_count": 43,
     "metadata": {},
     "output_type": "execute_result"
    }
   ],
   "source": [
    "word_p"
   ]
  },
  {
   "cell_type": "code",
   "execution_count": 53,
   "metadata": {},
   "outputs": [
    {
     "ename": "ValueError",
     "evalue": "array is not broadcastable to correct shape",
     "output_type": "error",
     "traceback": [
      "\u001b[0;31m---------------------------------------------------------------------------\u001b[0m",
      "\u001b[0;31mValueError\u001b[0m                                Traceback (most recent call last)",
      "\u001b[0;32m<ipython-input-53-ebac25f396cb>\u001b[0m in \u001b[0;36m<module>\u001b[0;34m\u001b[0m\n\u001b[1;32m      2\u001b[0m \u001b[0mdW\u001b[0m\u001b[0;34m,\u001b[0m \u001b[0;34m=\u001b[0m \u001b[0mgrads\u001b[0m\u001b[0;34m\u001b[0m\u001b[0;34m\u001b[0m\u001b[0m\n\u001b[1;32m      3\u001b[0m \u001b[0mdW\u001b[0m\u001b[0;34m[\u001b[0m\u001b[0;34m...\u001b[0m\u001b[0;34m]\u001b[0m \u001b[0;34m=\u001b[0m \u001b[0;36m0\u001b[0m\u001b[0;34m\u001b[0m\u001b[0;34m\u001b[0m\u001b[0m\n\u001b[0;32m----> 4\u001b[0;31m \u001b[0mnp\u001b[0m\u001b[0;34m.\u001b[0m\u001b[0madd\u001b[0m\u001b[0;34m.\u001b[0m\u001b[0mat\u001b[0m\u001b[0;34m(\u001b[0m\u001b[0mdW\u001b[0m\u001b[0;34m,\u001b[0m \u001b[0;36m3\u001b[0m\u001b[0;34m,\u001b[0m \u001b[0mdout\u001b[0m\u001b[0;34m)\u001b[0m\u001b[0;34m\u001b[0m\u001b[0;34m\u001b[0m\u001b[0m\n\u001b[0m",
      "\u001b[0;31mValueError\u001b[0m: array is not broadcastable to correct shape"
     ]
    }
   ],
   "source": [
    "grads = [np.zeros_like(W_out)]\n",
    "dW, = grads\n",
    "dW[...] = 0"
   ]
  },
  {
   "cell_type": "code",
   "execution_count": null,
   "metadata": {},
   "outputs": [],
   "source": [
    "class Embedding:\n",
    "    def __init__(self, W):\n",
    "        self.params = [W]\n",
    "        self.grads = [np.zeros_like(W)]\n",
    "        self.idx = None\n",
    "    \n",
    "    def forward(self, idx):\n",
    "        W, = self.params\n",
    "        self.idx = idx\n",
    "        out = W[idx]\n",
    "        return out\n",
    "\n",
    "    def backward(self, dout):\n",
    "        dW, = self.grads\n",
    "        dW[...] = 0\n",
    "        np.add.at(dW, self.idx, dout)\n",
    "        return None"
   ]
  },
  {
   "cell_type": "code",
   "execution_count": 4,
   "metadata": {},
   "outputs": [
    {
     "name": "stdout",
     "output_type": "stream",
     "text": [
      "[6, 7, 8, 10]\n"
     ]
    }
   ],
   "source": [
    "from common.functions import make_contexts\n",
    "\n",
    "temp_corpus = [0, 1, 2, 3, 4, 5, 6, 7, 8, 9, 10]\n",
    "idx = 9\n",
    "window = 4\n",
    "\n",
    "contexts = make_contexts(window, temp_corpus, idx)\n",
    "print(contexts)"
   ]
  },
  {
   "cell_type": "code",
   "execution_count": null,
   "metadata": {},
   "outputs": [],
   "source": []
  },
  {
   "cell_type": "code",
   "execution_count": null,
   "metadata": {},
   "outputs": [],
   "source": []
  }
 ],
 "metadata": {
  "interpreter": {
   "hash": "586ad1ed5c97141e2437e681efbf1ec0adcd17d830cf5af2ca3d2819e743e158"
  },
  "kernelspec": {
   "display_name": "Python 3.7.3 64-bit ('base': conda)",
   "language": "python",
   "name": "python3"
  },
  "language_info": {
   "codemirror_mode": {
    "name": "ipython",
    "version": 3
   },
   "file_extension": ".py",
   "mimetype": "text/x-python",
   "name": "python",
   "nbconvert_exporter": "python",
   "pygments_lexer": "ipython3",
   "version": "3.7.3"
  },
  "orig_nbformat": 4
 },
 "nbformat": 4,
 "nbformat_minor": 2
}
